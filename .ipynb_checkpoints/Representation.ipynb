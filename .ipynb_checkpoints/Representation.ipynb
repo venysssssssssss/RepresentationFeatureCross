{
 "cells": [
  {
   "cell_type": "code",
   "execution_count": 8,
   "metadata": {},
   "outputs": [
    {
     "name": "stdout",
     "output_type": "stream",
     "text": [
      "Imported the modules.\n"
     ]
    }
   ],
   "source": [
    "import numpy as np\n",
    "import pandas as pd\n",
    "import tensorflow as tf\n",
    "from tensorflow import feature_column\n",
    "from tensorflow.keras import layers\n",
    "\n",
    "from matplotlib import pyplot as plt\n",
    "\n",
    "# The following lines adjust the granularity of reporting.\n",
    "pd.options.display.max_rows = 10\n",
    "pd.options.display.float_format = \"{:.1f}\".format\n",
    "\n",
    "tf.keras.backend.set_floatx('float32')\n",
    "\n",
    "print(\"Imported the modules.\")"
   ]
  },
  {
   "cell_type": "code",
   "execution_count": 9,
   "metadata": {},
   "outputs": [],
   "source": [
    "# Load the dataset\n",
    "train_df = pd.read_csv(\"https://download.mlcc.google.com/mledu-datasets/california_housing_train.csv\")\n",
    "test_df = pd.read_csv(\"https://download.mlcc.google.com/mledu-datasets/california_housing_test.csv\")\n",
    "\n",
    "# Scale the labels\n",
    "scale_factor = 1000.0\n",
    "# Scale the training set's label.\n",
    "train_df[\"median_house_value\"] /= scale_factor \n",
    "\n",
    "# Scale the test set's label\n",
    "test_df[\"median_house_value\"] /= scale_factor\n",
    "\n",
    "# Shuffle the examples\n",
    "train_df = train_df.reindex(np.random.permutation(train_df.index))"
   ]
  },
  {
   "cell_type": "code",
   "execution_count": 10,
   "metadata": {},
   "outputs": [
    {
     "name": "stdout",
     "output_type": "stream",
     "text": [
      "WARNING:tensorflow:From /tmp/ipykernel_28753/184973860.py:5: numeric_column (from tensorflow.python.feature_column.feature_column_v2) is deprecated and will be removed in a future version.\n",
      "Instructions for updating:\n",
      "Use Keras preprocessing layers instead, either directly or via the `tf.keras.utils.FeatureSpace` utility. Each of `tf.feature_column.*` has a functional equivalent in `tf.keras.layers` for feature preprocessing when training a Keras model.\n"
     ]
    }
   ],
   "source": [
    "# Create an empty list that will eventually hold all feature columns.\n",
    "feature_columns = []\n",
    "\n",
    "# Create a numerical feature column to represent latitude.\n",
    "latitude = tf.feature_column.numeric_column(\"latitude\")\n",
    "feature_columns.append(latitude)\n",
    "\n",
    "# Create a numerical feature column to represent longitude.\n",
    "longitude = tf.feature_column.numeric_column(\"longitude\")\n",
    "feature_columns.append(longitude)\n",
    "\n",
    "# Convert the list of feature columns into a layer that will ultimately become\n",
    "# part of the model. Understanding layers is not important right now.\n",
    "fp_feature_layer = layers.DenseFeatures(feature_columns)"
   ]
  },
  {
   "cell_type": "code",
   "execution_count": 11,
   "metadata": {},
   "outputs": [
    {
     "name": "stdout",
     "output_type": "stream",
     "text": [
      "Defined the create_model, train_model, and plot_the_loss_curve functions.\n"
     ]
    }
   ],
   "source": [
    "def create_model(my_learning_rate, feature_layer):\n",
    "  \"\"\"Create and compile a simple linear regression model.\"\"\"\n",
    "  # Most simple tf.keras models are sequential.\n",
    "  model = tf.keras.models.Sequential()\n",
    "\n",
    "  # Add the layer containing the feature columns to the model.\n",
    "  model.add(feature_layer)\n",
    "\n",
    "  # Add one linear layer to the model to yield a simple linear regressor.\n",
    "  model.add(tf.keras.layers.Dense(units=1, input_shape=(1,)))\n",
    "\n",
    "  # Construct the layers into a model that TensorFlow can execute.\n",
    "  model.compile(optimizer=tf.keras.optimizers.experimental.RMSprop(learning_rate=my_learning_rate),\n",
    "                loss=\"mean_squared_error\",\n",
    "                metrics=[tf.keras.metrics.RootMeanSquaredError()])\n",
    "\n",
    "  return model           \n",
    "\n",
    "\n",
    "def train_model(model, dataset, epochs, batch_size, label_name):\n",
    "  \"\"\"Feed a dataset into the model in order to train it.\"\"\"\n",
    "\n",
    "  features = {name:np.array(value) for name, value in dataset.items()}\n",
    "  label = np.array(features.pop(label_name))\n",
    "  history = model.fit(x=features, y=label, batch_size=batch_size,\n",
    "                      epochs=epochs, shuffle=True)\n",
    "\n",
    "  # The list of epochs is stored separately from the rest of history.\n",
    "  epochs = history.epoch\n",
    "  \n",
    "  # Isolate the mean absolute error for each epoch.\n",
    "  hist = pd.DataFrame(history.history)\n",
    "  rmse = hist[\"root_mean_squared_error\"]\n",
    "\n",
    "  return epochs, rmse   \n",
    "\n",
    "\n",
    "def plot_the_loss_curve(epochs, rmse):\n",
    "  \"\"\"Plot a curve of loss vs. epoch.\"\"\"\n",
    "\n",
    "  plt.figure()\n",
    "  plt.xlabel(\"Epoch\")\n",
    "  plt.ylabel(\"Root Mean Squared Error\")\n",
    "\n",
    "  plt.plot(epochs, rmse, label=\"Loss\")\n",
    "  plt.legend()\n",
    "  plt.ylim([rmse.min()*0.94, rmse.max()* 1.05])\n",
    "  plt.show()  \n",
    "\n",
    "print(\"Defined the create_model, train_model, and plot_the_loss_curve functions.\")"
   ]
  },
  {
   "cell_type": "code",
   "execution_count": 12,
   "metadata": {},
   "outputs": [
    {
     "name": "stderr",
     "output_type": "stream",
     "text": [
      "2023-04-02 13:27:31.701591: E tensorflow/compiler/xla/stream_executor/cuda/cuda_driver.cc:266] failed call to cuInit: CUDA_ERROR_SYSTEM_NOT_READY: system not yet initialized\n",
      "2023-04-02 13:27:31.701660: I tensorflow/compiler/xla/stream_executor/cuda/cuda_diagnostics.cc:168] retrieving CUDA diagnostic information for host: venys-desktop\n",
      "2023-04-02 13:27:31.701676: I tensorflow/compiler/xla/stream_executor/cuda/cuda_diagnostics.cc:175] hostname: venys-desktop\n",
      "2023-04-02 13:27:31.701806: I tensorflow/compiler/xla/stream_executor/cuda/cuda_diagnostics.cc:199] libcuda reported version is: 525.89.2\n",
      "2023-04-02 13:27:31.701845: I tensorflow/compiler/xla/stream_executor/cuda/cuda_diagnostics.cc:203] kernel reported version is: 525.89.2\n",
      "2023-04-02 13:27:31.701859: I tensorflow/compiler/xla/stream_executor/cuda/cuda_diagnostics.cc:309] kernel version seems to match DSO: 525.89.2\n"
     ]
    },
    {
     "name": "stdout",
     "output_type": "stream",
     "text": [
      "Epoch 1/30\n",
      "WARNING:tensorflow:Layers in a Sequential model should only have a single input tensor. Received: inputs={'longitude': <tf.Tensor 'IteratorGetNext:3' shape=(100,) dtype=float32>, 'latitude': <tf.Tensor 'IteratorGetNext:2' shape=(100,) dtype=float32>, 'housing_median_age': <tf.Tensor 'IteratorGetNext:1' shape=(100,) dtype=float32>, 'total_rooms': <tf.Tensor 'IteratorGetNext:7' shape=(100,) dtype=float32>, 'total_bedrooms': <tf.Tensor 'IteratorGetNext:6' shape=(100,) dtype=float32>, 'population': <tf.Tensor 'IteratorGetNext:5' shape=(100,) dtype=float32>, 'households': <tf.Tensor 'IteratorGetNext:0' shape=(100,) dtype=float32>, 'median_income': <tf.Tensor 'IteratorGetNext:4' shape=(100,) dtype=float32>}. Consider rewriting this model with the Functional API.\n",
      "WARNING:tensorflow:Layers in a Sequential model should only have a single input tensor. Received: inputs={'longitude': <tf.Tensor 'IteratorGetNext:3' shape=(100,) dtype=float32>, 'latitude': <tf.Tensor 'IteratorGetNext:2' shape=(100,) dtype=float32>, 'housing_median_age': <tf.Tensor 'IteratorGetNext:1' shape=(100,) dtype=float32>, 'total_rooms': <tf.Tensor 'IteratorGetNext:7' shape=(100,) dtype=float32>, 'total_bedrooms': <tf.Tensor 'IteratorGetNext:6' shape=(100,) dtype=float32>, 'population': <tf.Tensor 'IteratorGetNext:5' shape=(100,) dtype=float32>, 'households': <tf.Tensor 'IteratorGetNext:0' shape=(100,) dtype=float32>, 'median_income': <tf.Tensor 'IteratorGetNext:4' shape=(100,) dtype=float32>}. Consider rewriting this model with the Functional API.\n",
      "170/170 [==============================] - 1s 2ms/step - loss: 20038.5020 - root_mean_squared_error: 141.5574\n",
      "Epoch 2/30\n",
      "170/170 [==============================] - 0s 2ms/step - loss: 13531.5996 - root_mean_squared_error: 116.3254\n",
      "Epoch 3/30\n",
      "170/170 [==============================] - 0s 2ms/step - loss: 13480.5381 - root_mean_squared_error: 116.1057\n",
      "Epoch 4/30\n",
      "170/170 [==============================] - 0s 2ms/step - loss: 13443.3594 - root_mean_squared_error: 115.9455\n",
      "Epoch 5/30\n",
      "170/170 [==============================] - 0s 2ms/step - loss: 13394.0898 - root_mean_squared_error: 115.7328\n",
      "Epoch 6/30\n",
      "170/170 [==============================] - 0s 2ms/step - loss: 13339.2598 - root_mean_squared_error: 115.4957\n",
      "Epoch 7/30\n",
      "170/170 [==============================] - 0s 2ms/step - loss: 13304.2881 - root_mean_squared_error: 115.3442\n",
      "Epoch 8/30\n",
      "170/170 [==============================] - 0s 2ms/step - loss: 13264.6699 - root_mean_squared_error: 115.1723\n",
      "Epoch 9/30\n",
      "170/170 [==============================] - 0s 2ms/step - loss: 13233.0488 - root_mean_squared_error: 115.0350\n",
      "Epoch 10/30\n",
      "170/170 [==============================] - 0s 2ms/step - loss: 13199.7285 - root_mean_squared_error: 114.8901\n",
      "Epoch 11/30\n",
      "170/170 [==============================] - 0s 2ms/step - loss: 13162.6025 - root_mean_squared_error: 114.7284\n",
      "Epoch 12/30\n",
      "170/170 [==============================] - 0s 2ms/step - loss: 13138.8408 - root_mean_squared_error: 114.6248\n",
      "Epoch 13/30\n",
      "170/170 [==============================] - 0s 2ms/step - loss: 13107.3037 - root_mean_squared_error: 114.4871\n",
      "Epoch 14/30\n",
      "170/170 [==============================] - 0s 2ms/step - loss: 13080.3887 - root_mean_squared_error: 114.3695\n",
      "Epoch 15/30\n",
      "170/170 [==============================] - 0s 2ms/step - loss: 13062.5146 - root_mean_squared_error: 114.2914\n",
      "Epoch 16/30\n",
      "170/170 [==============================] - 0s 2ms/step - loss: 13039.5713 - root_mean_squared_error: 114.1909\n",
      "Epoch 17/30\n",
      "170/170 [==============================] - 0s 2ms/step - loss: 13036.2422 - root_mean_squared_error: 114.1764\n",
      "Epoch 18/30\n",
      "170/170 [==============================] - 0s 2ms/step - loss: 12987.9883 - root_mean_squared_error: 113.9649\n",
      "Epoch 19/30\n",
      "170/170 [==============================] - 0s 2ms/step - loss: 12986.7061 - root_mean_squared_error: 113.9592\n",
      "Epoch 20/30\n",
      "170/170 [==============================] - 0s 2ms/step - loss: 12973.0537 - root_mean_squared_error: 113.8993\n",
      "Epoch 21/30\n",
      "170/170 [==============================] - 0s 2ms/step - loss: 12940.0283 - root_mean_squared_error: 113.7542\n",
      "Epoch 22/30\n",
      "170/170 [==============================] - 0s 2ms/step - loss: 12925.3047 - root_mean_squared_error: 113.6895\n",
      "Epoch 23/30\n",
      "170/170 [==============================] - 0s 2ms/step - loss: 12928.2471 - root_mean_squared_error: 113.7024\n",
      "Epoch 24/30\n",
      "170/170 [==============================] - 0s 2ms/step - loss: 12903.1934 - root_mean_squared_error: 113.5922\n",
      "Epoch 25/30\n",
      "170/170 [==============================] - 0s 2ms/step - loss: 12900.5352 - root_mean_squared_error: 113.5805\n",
      "Epoch 26/30\n",
      "170/170 [==============================] - 0s 2ms/step - loss: 12890.9395 - root_mean_squared_error: 113.5383\n",
      "Epoch 27/30\n",
      "170/170 [==============================] - 0s 2ms/step - loss: 12872.3564 - root_mean_squared_error: 113.4564\n",
      "Epoch 28/30\n",
      "170/170 [==============================] - 0s 2ms/step - loss: 12862.7900 - root_mean_squared_error: 113.4142\n",
      "Epoch 29/30\n",
      "170/170 [==============================] - 0s 2ms/step - loss: 12861.9600 - root_mean_squared_error: 113.4106\n",
      "Epoch 30/30\n",
      "170/170 [==============================] - 0s 2ms/step - loss: 12860.5088 - root_mean_squared_error: 113.4042\n"
     ]
    },
    {
     "data": {
      "image/png": "[encoded data removed]",
      "text/plain": [
       "<Figure size 640x480 with 1 Axes>"
      ]
     },
     "metadata": {},
     "output_type": "display_data"
    },
    {
     "name": "stdout",
     "output_type": "stream",
     "text": [
      "\n",
      ": Evaluate the new model against the test set:\n",
      "WARNING:tensorflow:Layers in a Sequential model should only have a single input tensor. Received: inputs={'longitude': <tf.Tensor 'IteratorGetNext:3' shape=(100,) dtype=float32>, 'latitude': <tf.Tensor 'IteratorGetNext:2' shape=(100,) dtype=float32>, 'housing_median_age': <tf.Tensor 'IteratorGetNext:1' shape=(100,) dtype=float32>, 'total_rooms': <tf.Tensor 'IteratorGetNext:7' shape=(100,) dtype=float32>, 'total_bedrooms': <tf.Tensor 'IteratorGetNext:6' shape=(100,) dtype=float32>, 'population': <tf.Tensor 'IteratorGetNext:5' shape=(100,) dtype=float32>, 'households': <tf.Tensor 'IteratorGetNext:0' shape=(100,) dtype=float32>, 'median_income': <tf.Tensor 'IteratorGetNext:4' shape=(100,) dtype=float32>}. Consider rewriting this model with the Functional API.\n",
      "30/30 [==============================] - 0s 2ms/step - loss: 12187.8867 - root_mean_squared_error: 110.3988\n"
     ]
    },
    {
     "data": {
      "text/plain": [
       "[12187.88671875, 110.39876556396484]"
      ]
     },
     "execution_count": 12,
     "metadata": {},
     "output_type": "execute_result"
    }
   ],
   "source": [
    "# The following variables are the hyperparameters.\n",
    "learning_rate = 0.05\n",
    "epochs = 30\n",
    "batch_size = 100\n",
    "label_name = 'median_house_value'\n",
    "\n",
    "# Create and compile the model's topography.\n",
    "my_model = create_model(learning_rate, fp_feature_layer)\n",
    "\n",
    "# Train the model on the training set.\n",
    "epochs, rmse = train_model(my_model, train_df, epochs, batch_size, label_name)\n",
    "\n",
    "plot_the_loss_curve(epochs, rmse)\n",
    "\n",
    "print(\"\\n: Evaluate the new model against the test set:\")\n",
    "test_features = {name:np.array(value) for name, value in test_df.items()}\n",
    "test_label = np.array(test_features.pop(label_name))\n",
    "my_model.evaluate(x=test_features, y=test_label, batch_size=batch_size)"
   ]
  },
  {
   "cell_type": "code",
   "execution_count": null,
   "metadata": {},
   "outputs": [],
   "source": [
    "# Representing latitude and longitude as \n",
    "# floating-point values does not have much \n",
    "# predictive power. For example, neighborhoods at \n",
    "# latitude 35 are not 36/35 more valuable \n",
    "# (or 35/36 less valuable) than houses at \n",
    "# latitude 36.\n",
    "\n",
    "# Representing `latitude` and `longitude` as \n",
    "# floating-point values provides almost no \n",
    "# predictive power. We're only using the raw values \n",
    "# to establish a baseline for future experiments \n",
    "# with better representations."
   ]
  },
  {
   "cell_type": "code",
   "execution_count": 13,
   "metadata": {},
   "outputs": [
    {
     "name": "stdout",
     "output_type": "stream",
     "text": [
      "WARNING:tensorflow:From /tmp/ipykernel_28753/601457241.py:11: bucketized_column (from tensorflow.python.feature_column.feature_column_v2) is deprecated and will be removed in a future version.\n",
      "Instructions for updating:\n",
      "Use Keras preprocessing layers instead, either directly or via the `tf.keras.utils.FeatureSpace` utility. Each of `tf.feature_column.*` has a functional equivalent in `tf.keras.layers` for feature preprocessing when training a Keras model.\n"
     ]
    }
   ],
   "source": [
    "resolution_in_degrees = 1.0 \n",
    "\n",
    "# Create a new empty list that will eventually hold the generated feature column.\n",
    "feature_columns = []\n",
    "\n",
    "# Create a bucket feature column for latitude.\n",
    "latitude_as_a_numeric_column = tf.feature_column.numeric_column(\"latitude\")\n",
    "latitude_boundaries = list(np.arange(int(min(train_df['latitude'])), \n",
    "                                     int(max(train_df['latitude'])), \n",
    "                                     resolution_in_degrees))\n",
    "latitude = tf.feature_column.bucketized_column(latitude_as_a_numeric_column, \n",
    "                                               latitude_boundaries)\n",
    "feature_columns.append(latitude)\n",
    "\n",
    "# Create a bucket feature column for longitude.\n",
    "longitude_as_a_numeric_column = tf.feature_column.numeric_column(\"longitude\")\n",
    "longitude_boundaries = list(np.arange(int(min(train_df['longitude'])), \n",
    "                                      int(max(train_df['longitude'])), \n",
    "                                      resolution_in_degrees))\n",
    "longitude = tf.feature_column.bucketized_column(longitude_as_a_numeric_column, \n",
    "                                                longitude_boundaries)\n",
    "feature_columns.append(longitude)\n",
    "\n",
    "# Convert the list of feature columns into a layer that will ultimately become\n",
    "# part of the model. Understanding layers is not important right now.\n",
    "buckets_feature_layer = layers.DenseFeatures(feature_columns)"
   ]
  },
  {
   "cell_type": "code",
   "execution_count": 34,
   "metadata": {},
   "outputs": [
    {
     "name": "stdout",
     "output_type": "stream",
     "text": [
      "Epoch 1/35\n",
      "WARNING:tensorflow:Layers in a Sequential model should only have a single input tensor. Received: inputs={'longitude': <tf.Tensor 'IteratorGetNext:3' shape=(100,) dtype=float32>, 'latitude': <tf.Tensor 'IteratorGetNext:2' shape=(100,) dtype=float32>, 'housing_median_age': <tf.Tensor 'IteratorGetNext:1' shape=(100,) dtype=float32>, 'total_rooms': <tf.Tensor 'IteratorGetNext:7' shape=(100,) dtype=float32>, 'total_bedrooms': <tf.Tensor 'IteratorGetNext:6' shape=(100,) dtype=float32>, 'population': <tf.Tensor 'IteratorGetNext:5' shape=(100,) dtype=float32>, 'households': <tf.Tensor 'IteratorGetNext:0' shape=(100,) dtype=float32>, 'median_income': <tf.Tensor 'IteratorGetNext:4' shape=(100,) dtype=float32>}. Consider rewriting this model with the Functional API.\n",
      "WARNING:tensorflow:Layers in a Sequential model should only have a single input tensor. Received: inputs={'longitude': <tf.Tensor 'IteratorGetNext:3' shape=(100,) dtype=float32>, 'latitude': <tf.Tensor 'IteratorGetNext:2' shape=(100,) dtype=float32>, 'housing_median_age': <tf.Tensor 'IteratorGetNext:1' shape=(100,) dtype=float32>, 'total_rooms': <tf.Tensor 'IteratorGetNext:7' shape=(100,) dtype=float32>, 'total_bedrooms': <tf.Tensor 'IteratorGetNext:6' shape=(100,) dtype=float32>, 'population': <tf.Tensor 'IteratorGetNext:5' shape=(100,) dtype=float32>, 'households': <tf.Tensor 'IteratorGetNext:0' shape=(100,) dtype=float32>, 'median_income': <tf.Tensor 'IteratorGetNext:4' shape=(100,) dtype=float32>}. Consider rewriting this model with the Functional API.\n",
      "170/170 [==============================] - 1s 2ms/step - loss: 52328.0703 - root_mean_squared_error: 228.7533\n",
      "Epoch 2/35\n",
      "170/170 [==============================] - 0s 2ms/step - loss: 44903.5664 - root_mean_squared_error: 211.9046\n",
      "Epoch 3/35\n",
      "170/170 [==============================] - 0s 2ms/step - loss: 38274.1953 - root_mean_squared_error: 195.6379\n",
      "Epoch 4/35\n",
      "170/170 [==============================] - 0s 2ms/step - loss: 32446.7578 - root_mean_squared_error: 180.1298\n",
      "Epoch 5/35\n",
      "170/170 [==============================] - 0s 2ms/step - loss: 27408.7129 - root_mean_squared_error: 165.5558\n",
      "Epoch 6/35\n",
      "170/170 [==============================] - 0s 3ms/step - loss: 23114.2754 - root_mean_squared_error: 152.0338\n",
      "Epoch 7/35\n",
      "170/170 [==============================] - 0s 2ms/step - loss: 19595.4688 - root_mean_squared_error: 139.9838\n",
      "Epoch 8/35\n",
      "170/170 [==============================] - 0s 2ms/step - loss: 16751.5938 - root_mean_squared_error: 129.4279\n",
      "Epoch 9/35\n",
      "170/170 [==============================] - 0s 2ms/step - loss: 14580.8359 - root_mean_squared_error: 120.7511\n",
      "Epoch 10/35\n",
      "170/170 [==============================] - 0s 2ms/step - loss: 13022.5947 - root_mean_squared_error: 114.1166\n",
      "Epoch 11/35\n",
      "170/170 [==============================] - 0s 2ms/step - loss: 11976.3193 - root_mean_squared_error: 109.4364\n",
      "Epoch 12/35\n",
      "170/170 [==============================] - 0s 2ms/step - loss: 11343.1084 - root_mean_squared_error: 106.5040\n",
      "Epoch 13/35\n",
      "170/170 [==============================] - 0s 3ms/step - loss: 10999.4482 - root_mean_squared_error: 104.8783\n",
      "Epoch 14/35\n",
      "170/170 [==============================] - 0s 2ms/step - loss: 10803.6602 - root_mean_squared_error: 103.9407\n",
      "Epoch 15/35\n",
      "170/170 [==============================] - 0s 2ms/step - loss: 10681.0371 - root_mean_squared_error: 103.3491\n",
      "Epoch 16/35\n",
      "170/170 [==============================] - 0s 2ms/step - loss: 10603.5605 - root_mean_squared_error: 102.9736\n",
      "Epoch 17/35\n",
      "170/170 [==============================] - 0s 2ms/step - loss: 10553.5205 - root_mean_squared_error: 102.7303\n",
      "Epoch 18/35\n",
      "170/170 [==============================] - 0s 2ms/step - loss: 10520.7998 - root_mean_squared_error: 102.5710\n",
      "Epoch 19/35\n",
      "170/170 [==============================] - 0s 2ms/step - loss: 10496.9717 - root_mean_squared_error: 102.4547\n",
      "Epoch 20/35\n",
      "170/170 [==============================] - 0s 2ms/step - loss: 10478.2031 - root_mean_squared_error: 102.3631\n",
      "Epoch 21/35\n",
      "170/170 [==============================] - 0s 2ms/step - loss: 10462.4873 - root_mean_squared_error: 102.2863\n",
      "Epoch 22/35\n",
      "170/170 [==============================] - 0s 2ms/step - loss: 10449.9170 - root_mean_squared_error: 102.2248\n",
      "Epoch 23/35\n",
      "170/170 [==============================] - 0s 2ms/step - loss: 10438.6445 - root_mean_squared_error: 102.1697\n",
      "Epoch 24/35\n",
      "170/170 [==============================] - 0s 2ms/step - loss: 10428.1270 - root_mean_squared_error: 102.1182\n",
      "Epoch 25/35\n",
      "170/170 [==============================] - 0s 2ms/step - loss: 10418.1152 - root_mean_squared_error: 102.0692\n",
      "Epoch 26/35\n",
      "170/170 [==============================] - 0s 2ms/step - loss: 10409.1689 - root_mean_squared_error: 102.0253\n",
      "Epoch 27/35\n",
      "170/170 [==============================] - 0s 2ms/step - loss: 10400.1836 - root_mean_squared_error: 101.9813\n",
      "Epoch 28/35\n",
      "170/170 [==============================] - 0s 3ms/step - loss: 10391.8262 - root_mean_squared_error: 101.9403\n",
      "Epoch 29/35\n",
      "170/170 [==============================] - 0s 2ms/step - loss: 10383.6582 - root_mean_squared_error: 101.9002\n",
      "Epoch 30/35\n",
      "170/170 [==============================] - 0s 2ms/step - loss: 10375.8174 - root_mean_squared_error: 101.8618\n",
      "Epoch 31/35\n",
      "170/170 [==============================] - 0s 2ms/step - loss: 10368.0762 - root_mean_squared_error: 101.8238\n",
      "Epoch 32/35\n",
      "170/170 [==============================] - 0s 2ms/step - loss: 10360.5664 - root_mean_squared_error: 101.7869\n",
      "Epoch 33/35\n",
      "170/170 [==============================] - 0s 2ms/step - loss: 10353.4658 - root_mean_squared_error: 101.7520\n",
      "Epoch 34/35\n",
      "170/170 [==============================] - 0s 2ms/step - loss: 10346.5840 - root_mean_squared_error: 101.7182\n",
      "Epoch 35/35\n",
      "170/170 [==============================] - 0s 2ms/step - loss: 10339.9941 - root_mean_squared_error: 101.6858\n"
     ]
    },
    {
     "data": {
      "image/png": "[encoded data removed]",
      "text/plain": [
       "<Figure size 640x480 with 1 Axes>"
      ]
     },
     "metadata": {},
     "output_type": "display_data"
    },
    {
     "name": "stdout",
     "output_type": "stream",
     "text": [
      "\n",
      ": Evaluate the new model against the test set:\n",
      "WARNING:tensorflow:Layers in a Sequential model should only have a single input tensor. Received: inputs={'longitude': <tf.Tensor 'IteratorGetNext:3' shape=(100,) dtype=float32>, 'latitude': <tf.Tensor 'IteratorGetNext:2' shape=(100,) dtype=float32>, 'housing_median_age': <tf.Tensor 'IteratorGetNext:1' shape=(100,) dtype=float32>, 'total_rooms': <tf.Tensor 'IteratorGetNext:7' shape=(100,) dtype=float32>, 'total_bedrooms': <tf.Tensor 'IteratorGetNext:6' shape=(100,) dtype=float32>, 'population': <tf.Tensor 'IteratorGetNext:5' shape=(100,) dtype=float32>, 'households': <tf.Tensor 'IteratorGetNext:0' shape=(100,) dtype=float32>, 'median_income': <tf.Tensor 'IteratorGetNext:4' shape=(100,) dtype=float32>}. Consider rewriting this model with the Functional API.\n",
      "30/30 [==============================] - 0s 2ms/step - loss: 10198.0869 - root_mean_squared_error: 100.9856\n"
     ]
    },
    {
     "data": {
      "text/plain": [
       "[10198.0869140625, 100.98558044433594]"
      ]
     },
     "execution_count": 34,
     "metadata": {},
     "output_type": "execute_result"
    }
   ],
   "source": [
    "# The following variables are the hyperparameters.\n",
    "learning_rate = 0.04\n",
    "epochs = 35\n",
    "\n",
    "# Build the model, this time passing in the buckets_feature_layer.\n",
    "my_model = create_model(learning_rate, buckets_feature_layer)\n",
    "\n",
    "# Train the model on the training set.\n",
    "epochs, rmse = train_model(my_model, train_df, epochs, batch_size, label_name)\n",
    "\n",
    "plot_the_loss_curve(epochs, rmse)\n",
    "\n",
    "print(\"\\n: Evaluate the new model against the test set:\")\n",
    "my_model.evaluate(x=test_features, y=test_label, batch_size=batch_size)"
   ]
  },
  {
   "cell_type": "code",
   "execution_count": null,
   "metadata": {},
   "outputs": [],
   "source": [
    "# Bucket representation outperformed \n",
    "# floating-point representations.  \n",
    "# However, can do far better."
   ]
  },
  {
   "cell_type": "code",
   "execution_count": null,
   "metadata": {},
   "outputs": [],
   "source": [
    "# Representing location as a feature cross should \n",
    "# produce better results.\n",
    "\n",
    "# In Task 2, you represented latitude in \n",
    "# one-dimensional buckets and longitude in \n",
    "# another series of one-dimensional buckets. \n",
    "# Real-world locations, however, exist in \n",
    "# two dimension. Therefore, you should\n",
    "# represent location as a two-dimensional feature\n",
    "# cross. That is, you'll cross the 10 or so latitude \n",
    "# buckets with the 10 or so longitude buckets to \n",
    "# create a grid of 100 cells. \n",
    "\n",
    "# The model will learn separate weights for each \n",
    "# of the cells."
   ]
  },
  {
   "cell_type": "code",
   "execution_count": 32,
   "metadata": {},
   "outputs": [],
   "source": [
    "resolution_in_degrees = 0.4\n",
    "\n",
    "# Create a new empty list that will eventually hold the generated feature column.\n",
    "feature_columns = []\n",
    "\n",
    "# Create a bucket feature column for latitude.\n",
    "latitude_as_a_numeric_column = tf.feature_column.numeric_column(\"latitude\")\n",
    "latitude_boundaries = list(np.arange(int(min(train_df['latitude'])), int(max(train_df['latitude'])), resolution_in_degrees))\n",
    "latitude = tf.feature_column.bucketized_column(latitude_as_a_numeric_column, latitude_boundaries)\n",
    "\n",
    "# Create a bucket feature column for longitude.\n",
    "longitude_as_a_numeric_column = tf.feature_column.numeric_column(\"longitude\")\n",
    "longitude_boundaries = list(np.arange(int(min(train_df['longitude'])), int(max(train_df['longitude'])), resolution_in_degrees))\n",
    "longitude = tf.feature_column.bucketized_column(longitude_as_a_numeric_column, longitude_boundaries)\n",
    "\n",
    "# Create a feature cross of latitude and longitude.\n",
    "latitude_x_longitude = tf.feature_column.crossed_column([latitude, longitude], hash_bucket_size=100)\n",
    "crossed_feature = tf.feature_column.indicator_column(latitude_x_longitude)\n",
    "feature_columns.append(crossed_feature)\n",
    "\n",
    "# Convert the list of feature columns into a layer that will later be fed into\n",
    "# the model. \n",
    "feature_cross_feature_layer = layers.DenseFeatures(feature_columns)"
   ]
  },
  {
   "cell_type": "code",
   "execution_count": 35,
   "metadata": {},
   "outputs": [
    {
     "name": "stdout",
     "output_type": "stream",
     "text": [
      "Epoch 1/35\n",
      "WARNING:tensorflow:Layers in a Sequential model should only have a single input tensor. Received: inputs={'longitude': <tf.Tensor 'IteratorGetNext:3' shape=(100,) dtype=float32>, 'latitude': <tf.Tensor 'IteratorGetNext:2' shape=(100,) dtype=float32>, 'housing_median_age': <tf.Tensor 'IteratorGetNext:1' shape=(100,) dtype=float32>, 'total_rooms': <tf.Tensor 'IteratorGetNext:7' shape=(100,) dtype=float32>, 'total_bedrooms': <tf.Tensor 'IteratorGetNext:6' shape=(100,) dtype=float32>, 'population': <tf.Tensor 'IteratorGetNext:5' shape=(100,) dtype=float32>, 'households': <tf.Tensor 'IteratorGetNext:0' shape=(100,) dtype=float32>, 'median_income': <tf.Tensor 'IteratorGetNext:4' shape=(100,) dtype=float32>}. Consider rewriting this model with the Functional API.\n",
      "WARNING:tensorflow:Layers in a Sequential model should only have a single input tensor. Received: inputs={'longitude': <tf.Tensor 'IteratorGetNext:3' shape=(100,) dtype=float32>, 'latitude': <tf.Tensor 'IteratorGetNext:2' shape=(100,) dtype=float32>, 'housing_median_age': <tf.Tensor 'IteratorGetNext:1' shape=(100,) dtype=float32>, 'total_rooms': <tf.Tensor 'IteratorGetNext:7' shape=(100,) dtype=float32>, 'total_bedrooms': <tf.Tensor 'IteratorGetNext:6' shape=(100,) dtype=float32>, 'population': <tf.Tensor 'IteratorGetNext:5' shape=(100,) dtype=float32>, 'households': <tf.Tensor 'IteratorGetNext:0' shape=(100,) dtype=float32>, 'median_income': <tf.Tensor 'IteratorGetNext:4' shape=(100,) dtype=float32>}. Consider rewriting this model with the Functional API.\n",
      "170/170 [==============================] - 1s 2ms/step - loss: 35505.4570 - root_mean_squared_error: 188.4289\n",
      "Epoch 2/35\n",
      "170/170 [==============================] - 0s 3ms/step - loss: 15108.5732 - root_mean_squared_error: 122.9169\n",
      "Epoch 3/35\n",
      "170/170 [==============================] - 0s 2ms/step - loss: 10697.8828 - root_mean_squared_error: 103.4306\n",
      "Epoch 4/35\n",
      "170/170 [==============================] - 0s 3ms/step - loss: 10064.3105 - root_mean_squared_error: 100.3210\n",
      "Epoch 5/35\n",
      "170/170 [==============================] - 0s 2ms/step - loss: 9890.6650 - root_mean_squared_error: 99.4518\n",
      "Epoch 6/35\n",
      "170/170 [==============================] - 0s 2ms/step - loss: 9832.2998 - root_mean_squared_error: 99.1580\n",
      "Epoch 7/35\n",
      "170/170 [==============================] - 0s 3ms/step - loss: 9802.7227 - root_mean_squared_error: 99.0087\n",
      "Epoch 8/35\n",
      "170/170 [==============================] - 0s 3ms/step - loss: 9792.6631 - root_mean_squared_error: 98.9579\n",
      "Epoch 9/35\n",
      "170/170 [==============================] - 0s 2ms/step - loss: 9786.6035 - root_mean_squared_error: 98.9273\n",
      "Epoch 10/35\n",
      "170/170 [==============================] - 0s 3ms/step - loss: 9783.4668 - root_mean_squared_error: 98.9114\n",
      "Epoch 11/35\n",
      "170/170 [==============================] - 0s 3ms/step - loss: 9785.6084 - root_mean_squared_error: 98.9222\n",
      "Epoch 12/35\n",
      "170/170 [==============================] - 0s 3ms/step - loss: 9783.0879 - root_mean_squared_error: 98.9095\n",
      "Epoch 13/35\n",
      "170/170 [==============================] - 0s 2ms/step - loss: 9784.5127 - root_mean_squared_error: 98.9167\n",
      "Epoch 14/35\n",
      "170/170 [==============================] - 1s 3ms/step - loss: 9783.4307 - root_mean_squared_error: 98.9112\n",
      "Epoch 15/35\n",
      "170/170 [==============================] - 0s 2ms/step - loss: 9785.8369 - root_mean_squared_error: 98.9234\n",
      "Epoch 16/35\n",
      "170/170 [==============================] - 0s 2ms/step - loss: 9784.9404 - root_mean_squared_error: 98.9189\n",
      "Epoch 17/35\n",
      "170/170 [==============================] - 0s 2ms/step - loss: 9785.4912 - root_mean_squared_error: 98.9216\n",
      "Epoch 18/35\n",
      "170/170 [==============================] - 0s 2ms/step - loss: 9784.7705 - root_mean_squared_error: 98.9180\n",
      "Epoch 19/35\n",
      "170/170 [==============================] - 0s 2ms/step - loss: 9785.9600 - root_mean_squared_error: 98.9240\n",
      "Epoch 20/35\n",
      "170/170 [==============================] - 0s 2ms/step - loss: 9787.5156 - root_mean_squared_error: 98.9319\n",
      "Epoch 21/35\n",
      "170/170 [==============================] - 0s 2ms/step - loss: 9784.0674 - root_mean_squared_error: 98.9144\n",
      "Epoch 22/35\n",
      "170/170 [==============================] - 0s 2ms/step - loss: 9787.1963 - root_mean_squared_error: 98.9303\n",
      "Epoch 23/35\n",
      "170/170 [==============================] - 0s 2ms/step - loss: 9785.2578 - root_mean_squared_error: 98.9205\n",
      "Epoch 24/35\n",
      "170/170 [==============================] - 0s 3ms/step - loss: 9786.6729 - root_mean_squared_error: 98.9276\n",
      "Epoch 25/35\n",
      "170/170 [==============================] - 0s 2ms/step - loss: 9784.0645 - root_mean_squared_error: 98.9144\n",
      "Epoch 26/35\n",
      "170/170 [==============================] - 0s 2ms/step - loss: 9786.4072 - root_mean_squared_error: 98.9263\n",
      "Epoch 27/35\n",
      "170/170 [==============================] - 0s 2ms/step - loss: 9785.9346 - root_mean_squared_error: 98.9239\n",
      "Epoch 28/35\n",
      "170/170 [==============================] - 0s 3ms/step - loss: 9785.7129 - root_mean_squared_error: 98.9228\n",
      "Epoch 29/35\n",
      "170/170 [==============================] - 0s 2ms/step - loss: 9785.3691 - root_mean_squared_error: 98.9210\n",
      "Epoch 30/35\n",
      "170/170 [==============================] - 0s 2ms/step - loss: 9785.9688 - root_mean_squared_error: 98.9240\n",
      "Epoch 31/35\n",
      "170/170 [==============================] - 0s 2ms/step - loss: 9784.8174 - root_mean_squared_error: 98.9182\n",
      "Epoch 32/35\n",
      "170/170 [==============================] - 0s 2ms/step - loss: 9785.2500 - root_mean_squared_error: 98.9204\n",
      "Epoch 33/35\n",
      "170/170 [==============================] - 0s 2ms/step - loss: 9787.5967 - root_mean_squared_error: 98.9323\n",
      "Epoch 34/35\n",
      "170/170 [==============================] - 0s 2ms/step - loss: 9787.7793 - root_mean_squared_error: 98.9332\n",
      "Epoch 35/35\n",
      "170/170 [==============================] - 0s 2ms/step - loss: 9785.6426 - root_mean_squared_error: 98.9224\n"
     ]
    },
    {
     "data": {
      "image/png": "[encoded data removed]",
      "text/plain": [
       "<Figure size 640x480 with 1 Axes>"
      ]
     },
     "metadata": {},
     "output_type": "display_data"
    },
    {
     "name": "stdout",
     "output_type": "stream",
     "text": [
      "\n",
      ": Evaluate the new model against the test set:\n",
      "WARNING:tensorflow:Layers in a Sequential model should only have a single input tensor. Received: inputs={'longitude': <tf.Tensor 'IteratorGetNext:3' shape=(100,) dtype=float32>, 'latitude': <tf.Tensor 'IteratorGetNext:2' shape=(100,) dtype=float32>, 'housing_median_age': <tf.Tensor 'IteratorGetNext:1' shape=(100,) dtype=float32>, 'total_rooms': <tf.Tensor 'IteratorGetNext:7' shape=(100,) dtype=float32>, 'total_bedrooms': <tf.Tensor 'IteratorGetNext:6' shape=(100,) dtype=float32>, 'population': <tf.Tensor 'IteratorGetNext:5' shape=(100,) dtype=float32>, 'households': <tf.Tensor 'IteratorGetNext:0' shape=(100,) dtype=float32>, 'median_income': <tf.Tensor 'IteratorGetNext:4' shape=(100,) dtype=float32>}. Consider rewriting this model with the Functional API.\n",
      "30/30 [==============================] - 0s 3ms/step - loss: 9824.4268 - root_mean_squared_error: 99.1182\n"
     ]
    },
    {
     "data": {
      "text/plain": [
       "[9824.4267578125, 99.11824035644531]"
      ]
     },
     "execution_count": 35,
     "metadata": {},
     "output_type": "execute_result"
    }
   ],
   "source": [
    "# The following variables are the hyperparameters.\n",
    "learning_rate = 0.4\n",
    "epochs = 35\n",
    "\n",
    "# Build the model, this time passing in the feature_cross_feature_layer: \n",
    "my_model = create_model(learning_rate, feature_cross_feature_layer)\n",
    "\n",
    "# Train the model on the training set.\n",
    "epochs, rmse = train_model(my_model, train_df, epochs, batch_size, label_name)\n",
    "\n",
    "plot_the_loss_curve(epochs, rmse)\n",
    "\n",
    "print(\"\\n: Evaluate the new model against the test set:\")\n",
    "my_model.evaluate(x=test_features, y=test_label, batch_size=batch_size)"
   ]
  },
  {
   "cell_type": "code",
   "execution_count": null,
   "metadata": {},
   "outputs": [],
   "source": [
    "# representing these features as a feature \n",
    "# cross produced much lower loss values than \n",
    "# representing these features as buckets"
   ]
  },
  {
   "cell_type": "code",
   "execution_count": null,
   "metadata": {},
   "outputs": [],
   "source": [
    "#1. A resolution of ~0.4 degree provides the best \n",
    "#   results.\n",
    "\n",
    "#2. Below ~0.4 degree, loss increases because the \n",
    "#   dataset does not contain enough examples in \n",
    "#   each cell to accurately predict prices for \n",
    "#   those cells.\n",
    "\n",
    "#3. Postal code would be a far better feature \n",
    "#   than latitude X longitude, assuming that \n",
    "#   the dataset contained sufficient examples \n",
    "#   in each postal code."
   ]
  }
 ],
 "metadata": {
  "kernelspec": {
   "display_name": "Python 3",
   "language": "python",
   "name": "python3"
  },
  "language_info": {
   "codemirror_mode": {
    "name": "ipython",
    "version": 3
   },
   "file_extension": ".py",
   "mimetype": "text/x-python",
   "name": "python",
   "nbconvert_exporter": "python",
   "pygments_lexer": "ipython3",
   "version": "3.10.6"
  },
  "orig_nbformat": 4
 },
 "nbformat": 4,
 "nbformat_minor": 2
}
